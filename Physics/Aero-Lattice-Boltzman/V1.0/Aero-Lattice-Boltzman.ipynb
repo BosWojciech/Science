{
 "cells": [
  {
   "cell_type": "markdown",
   "metadata": {},
   "source": [
    "# Aerodynamic Simulation with Lattice Boltzmann Method"
   ]
  },
  {
   "cell_type": "code",
   "execution_count": 2,
   "metadata": {},
   "outputs": [],
   "source": [
    "import numpy as np\n",
    "import matplotlib.pyplot as plt\n",
    "import logging\n",
    "from enum import Enum\n",
    "\n",
    "logging.basicConfig(level=logging.INFO, format='[%(asctime)s][%(levelname)s] - %(message)s')"
   ]
  },
  {
   "cell_type": "code",
   "execution_count": 3,
   "metadata": {},
   "outputs": [
    {
     "name": "stderr",
     "output_type": "stream",
     "text": [
      "[2024-12-11 20:14:50,270][INFO] - Constants Initialised\n"
     ]
    }
   ],
   "source": [
    "GRID = {'x': 100, 'y': 100}\n",
    "TAU = 0.6 # relaxation time \n",
    "U0 = 0.1 # inlet velocity (left to right)\n",
    "TIMESTEPS = 1000 # Number of iterations\n",
    "\n",
    "class OBSTACLE_SHAPE(Enum):\n",
    "    CIRCLE = 1\n",
    "    SQUARE = 2\n",
    "    TRIANGLE = 3\n",
    "\n",
    "logging.info(\"Constants Initialised\")"
   ]
  },
  {
   "cell_type": "code",
   "execution_count": 4,
   "metadata": {},
   "outputs": [
    {
     "name": "stderr",
     "output_type": "stream",
     "text": [
      "[2024-12-11 20:14:51,423][INFO] - Grid Initialised\n"
     ]
    }
   ],
   "source": [
    "grid = np.array([[0 for _ in range(GRID['x'])] for _ in range(GRID['y'])])\n",
    "\n",
    "logging.info(\"Grid Initialised\")"
   ]
  },
  {
   "cell_type": "code",
   "execution_count": null,
   "metadata": {},
   "outputs": [],
   "source": []
  }
 ],
 "metadata": {
  "kernelspec": {
   "display_name": "env",
   "language": "python",
   "name": "python3"
  },
  "language_info": {
   "codemirror_mode": {
    "name": "ipython",
    "version": 3
   },
   "file_extension": ".py",
   "mimetype": "text/x-python",
   "name": "python",
   "nbconvert_exporter": "python",
   "pygments_lexer": "ipython3",
   "version": "3.12.6"
  }
 },
 "nbformat": 4,
 "nbformat_minor": 2
}
